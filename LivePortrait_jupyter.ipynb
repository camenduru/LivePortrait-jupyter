{
  "cells": [
    {
      "cell_type": "markdown",
      "metadata": {
        "id": "view-in-github",
        "colab_type": "text"
      },
      "source": [
        "<a href=\"https://colab.research.google.com/github/AdamNizol/LivePortrait-jupyter/blob/main/LivePortrait_jupyter.ipynb\" target=\"_parent\"><img src=\"https://colab.research.google.com/assets/colab-badge.svg\" alt=\"Open In Colab\"/></a>"
      ]
    },
    {
      "cell_type": "markdown",
      "source": [
        "# Setup"
      ],
      "metadata": {
        "id": "kD5h7B0CKdAv"
      }
    },
    {
      "cell_type": "code",
      "execution_count": null,
      "metadata": {
        "id": "VjYy0F2gZIPR"
      },
      "outputs": [],
      "source": [
        "%cd /content\n",
        "!git clone -b dev https://github.com/camenduru/LivePortrait\n",
        "%cd /content/LivePortrait\n",
        "\n",
        "!rm -rf /content/LivePortrait/pretrained_weights\n",
        "!git clone https://huggingface.co/camenduru/LivePortrait /content/LivePortrait/pretrained_weights\n",
        "\n",
        "!pip install tyro==0.8.5 onnxruntime-gpu==1.18.1 onnx==1.16.1 gradio==4.36.1 colorama\n",
        "\n",
        "%cd /content/LivePortrait/src/utils/dependencies/insightface/thirdparty/face3d/mesh/cython\n",
        "!python setup.py build_ext --inplace\n",
        "\n",
        "%cd /content/LivePortrait"
      ]
    },
    {
      "cell_type": "markdown",
      "source": [
        "# Inference"
      ],
      "metadata": {
        "id": "Qhha_BfwKVI2"
      }
    },
    {
      "cell_type": "code",
      "execution_count": null,
      "metadata": {
        "id": "GWwP-CFEKNAs"
      },
      "outputs": [],
      "source": [
        "# !python inference.py -s /content/LivePortrait/assets/examples/source/m.jpeg -d /content/LivePortrait/assets/examples/driving/d3.mp4\n",
        "\n",
        "# Define input image and driving video paths\n",
        "input_image_path = \"/content/LivePortrait/assets/examples/source/s7.jpg\" #@param {type:\"string\"}\n",
        "\n",
        "driving_video_path = \"/content/LivePortrait/assets/examples/driving/d7.mp4\" #@param {type:\"string\"}\n",
        "\n",
        "\n",
        "# Extracting the image and video file names to generate the output file name\n",
        "import os\n",
        "\n",
        "image_filename = os.path.splitext(os.path.basename(input_image_path))[0]\n",
        "video_filename = os.path.splitext(os.path.basename(driving_video_path))[0]\n",
        "output_filename = f\"{image_filename}--{video_filename}.mp4\"\n",
        "output_path = f\"/content/LivePortrait/animations/{output_filename}\"\n",
        "\n",
        "# Run the inference using the defined paths\n",
        "!python inference.py -s {input_image_path} -d {driving_video_path}\n",
        "\n",
        "import subprocess\n",
        "\n",
        "# Define the output path with audio\n",
        "output_with_audio_filename = f\"{image_filename}--{video_filename}_with_audio.mp4\"\n",
        "output_with_audio_path = f\"/content/LivePortrait/animations/{output_with_audio_filename}\"\n",
        "\n",
        "# Use ffmpeg to extract audio from the original driving video and merge it with the generated video\n",
        "subprocess.call([\n",
        "    'ffmpeg', '-i', output_path, '-i', driving_video_path, '-c', 'copy', '-map', '0:v:0', '-map', '1:a:0', '-shortest', output_with_audio_path\n",
        "])\n"
      ]
    },
    {
      "cell_type": "markdown",
      "source": [
        "# Display Result"
      ],
      "metadata": {
        "id": "_5yl5ZWNKZVf"
      }
    },
    {
      "cell_type": "code",
      "source": [
        "from IPython.display import HTML\n",
        "from base64 import b64encode\n",
        "\n",
        "# Read the output video file\n",
        "mp4 = open(output_with_audio_path, 'rb').read()\n",
        "data_url = \"data:video/mp4;base64,\" + b64encode(mp4).decode()\n",
        "\n",
        "# Display the video in HTML\n",
        "HTML(f\"\"\"\n",
        "<video width=400 controls>\n",
        "      <source src=\"{data_url}\" type=\"video/mp4\">\n",
        "</video>\n",
        "\"\"\")\n"
      ],
      "metadata": {
        "id": "obURrqcPKYvM"
      },
      "execution_count": null,
      "outputs": []
    }
  ],
  "metadata": {
    "accelerator": "GPU",
    "colab": {
      "gpuType": "T4",
      "provenance": [],
      "include_colab_link": true
    },
    "kernelspec": {
      "display_name": "Python 3",
      "name": "python3"
    },
    "language_info": {
      "name": "python"
    }
  },
  "nbformat": 4,
  "nbformat_minor": 0
}